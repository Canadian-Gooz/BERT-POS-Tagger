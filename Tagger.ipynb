{
 "cells": [
  {
   "cell_type": "code",
   "execution_count": 1,
   "id": "8db61453",
   "metadata": {},
   "outputs": [],
   "source": [
    "import tensorflow as tf\n",
    "import tensorflow_hub as hub\n",
    "import tensorflow_text as text\n",
    "import numpy as np\n",
    "from layers import PosTagger\n",
    "from metrics import MaskedLoss"
   ]
  },
  {
   "cell_type": "code",
   "execution_count": 2,
   "id": "d9019e02",
   "metadata": {},
   "outputs": [],
   "source": [
    " tf.config.run_functions_eagerly(False)"
   ]
  },
  {
   "cell_type": "code",
   "execution_count": 19,
   "id": "ae718d69",
   "metadata": {},
   "outputs": [],
   "source": [
    "def prep_ds(file):\n",
    "    inp = ['']\n",
    "    targ = [[]]\n",
    "    idx = 0\n",
    "    for line in file:\n",
    "        try:\n",
    "            word, tag, _ = line.split(' ')\n",
    "            inp[idx]+= word + ' '\n",
    "            targ[idx].append(tag)\n",
    "        except:\n",
    "            targ[idx]=np.asarray(targ[idx])\n",
    "            idx +=1\n",
    "            inp.append('')\n",
    "            targ.append([])\n",
    "    return tf.convert_to_tensor(inp), targ\n"
   ]
  },
  {
   "cell_type": "code",
   "execution_count": 20,
   "id": "d0311bee",
   "metadata": {},
   "outputs": [],
   "source": [
    "with open(\"Data/train.txt\",mode='r', encoding = \"utf-8\") as f:\n",
    "    X_train, y_train = prep_ds(f)\n",
    "with open(\"Data/test.txt\",mode='r', encoding = \"utf-8\") as f:\n",
    "    X_test, y_test = prep_ds(f)"
   ]
  },
  {
   "cell_type": "code",
   "execution_count": 5,
   "id": "74900e66",
   "metadata": {},
   "outputs": [],
   "source": [
    "y_train = tf.ragged.constant(y_train[:-1])\n",
    "X_train = X_train[:-1]\n",
    "X_test = X_test[:-1]\n",
    "y_test = tf.ragged.constant(y_test[:-1])"
   ]
  },
  {
   "cell_type": "code",
   "execution_count": 6,
   "id": "d8b3a4b9",
   "metadata": {},
   "outputs": [
    {
     "name": "stdout",
     "output_type": "stream",
     "text": [
      "tf.Tensor(\n",
      "[b\"Confidence in the pound is widely expected to take another sharp dive if trade figures for September , due for release tomorrow , fail to show a substantial improvement from July and August 's near-record deficits . \"\n",
      " b\"Chancellor of the Exchequer Nigel Lawson 's restated commitment to a firm monetary policy has helped to prevent a freefall in sterling over the past week . \"], shape=(2,), dtype=string)\n",
      "<tf.RaggedTensor [[b'NN', b'IN', b'DT', b'NN', b'VBZ', b'RB', b'VBN', b'TO', b'VB', b'DT',\n",
      "  b'JJ', b'NN', b'IN', b'NN', b'NNS', b'IN', b'NNP', b',', b'JJ', b'IN',\n",
      "  b'NN', b'NN', b',', b'VB', b'TO', b'VB', b'DT', b'JJ', b'NN', b'IN',\n",
      "  b'NNP', b'CC', b'NNP', b'POS', b'JJ', b'NNS', b'.']                    ,\n",
      " [b'NNP', b'IN', b'DT', b'NNP', b'NNP', b'NNP', b'POS', b'VBN', b'NN',\n",
      "  b'TO', b'DT', b'NN', b'JJ', b'NN', b'VBZ', b'VBN', b'TO', b'VB', b'DT',\n",
      "  b'NN', b'IN', b'NN', b'IN', b'DT', b'JJ', b'NN', b'.']                 ]>\n"
     ]
    }
   ],
   "source": [
    "print(X_train[:2])\n",
    "print(y_train[:2])"
   ]
  },
  {
   "cell_type": "code",
   "execution_count": 7,
   "id": "6022029e",
   "metadata": {},
   "outputs": [],
   "source": [
    "preproc_url =  'https://tfhub.dev/tensorflow/bert_en_uncased_preprocess/3'\n",
    "bert_url = 'https://tfhub.dev/tensorflow/small_bert/bert_en_uncased_L-2_H-128_A-2/1'\n",
    "bert_urls = {'preproc':preproc_url,'encoder':bert_url}"
   ]
  },
  {
   "cell_type": "code",
   "execution_count": 14,
   "id": "b4bbbb69",
   "metadata": {},
   "outputs": [],
   "source": [
    "model = PosTagger(110,bert_urls, attention=None)"
   ]
  },
  {
   "cell_type": "code",
   "execution_count": 15,
   "id": "53e6fc49",
   "metadata": {},
   "outputs": [],
   "source": [
    "model.compile(loss=MaskedLoss(), optimizer = 'adam')"
   ]
  },
  {
   "cell_type": "code",
   "execution_count": 16,
   "id": "6d9b2b3c",
   "metadata": {
    "scrolled": true
   },
   "outputs": [
    {
     "name": "stdout",
     "output_type": "stream",
     "text": [
      "Epoch 1/2\n",
      "280/280 [==============================] - 29s 92ms/step - loss: 278.1182 - accuracy: 0.8292\n",
      "Epoch 2/2\n",
      "280/280 [==============================] - 25s 89ms/step - loss: 92.5120 - accuracy: 0.8881\n"
     ]
    },
    {
     "data": {
      "text/plain": [
       "<keras.callbacks.History at 0x1686f49d9d0>"
      ]
     },
     "execution_count": 16,
     "metadata": {},
     "output_type": "execute_result"
    }
   ],
   "source": [
    "model.fit(x=X_train,y=y_train,batch_size=32, epochs=2)"
   ]
  },
  {
   "cell_type": "code",
   "execution_count": 17,
   "id": "8ff16d78",
   "metadata": {
    "scrolled": true
   },
   "outputs": [
    {
     "data": {
      "text/plain": [
       "<tf.RaggedTensor [[b'NN', b'IN', b'DT', b'NN', b'VBZ', b'RB', b'VBN', b'TO', b'VB', b'DT',\n",
       "  b'JJ', b'NN', b'IN', b'NN', b'NNS', b'IN', b'NNP', b',', b'JJ', b'IN',\n",
       "  b'NN', b'NN', b',', b'VB', b'TO', b'VB', b'DT', b'JJ', b'NN', b'IN',\n",
       "  b'NNP', b'CC', b'NNP', b'POS', b'JJ', b'NN', b'.']]>"
      ]
     },
     "execution_count": 17,
     "metadata": {},
     "output_type": "execute_result"
    }
   ],
   "source": [
    "model(X_train[:1])"
   ]
  },
  {
   "cell_type": "code",
   "execution_count": 18,
   "id": "6c466615",
   "metadata": {
    "collapsed": true
   },
   "outputs": [
    {
     "name": "stdout",
     "output_type": "stream",
     "text": [
      "WARNING:tensorflow:Skipping full serialization of Keras layer <layers.TagVectorization object at 0x00000168916B16D0>, because it is not built.\n"
     ]
    },
    {
     "name": "stderr",
     "output_type": "stream",
     "text": [
      "WARNING:tensorflow:Skipping full serialization of Keras layer <layers.TagVectorization object at 0x00000168916B16D0>, because it is not built.\n",
      "WARNING:absl:Found untraced functions such as keras_layer_3_layer_call_fn, keras_layer_3_layer_call_and_return_conditional_losses, keras_layer_4_layer_call_fn, keras_layer_4_layer_call_and_return_conditional_losses, keras_layer_5_layer_call_fn while saving (showing 5 of 72). These functions will not be directly callable after loading.\n"
     ]
    },
    {
     "name": "stdout",
     "output_type": "stream",
     "text": [
      "INFO:tensorflow:Assets written to: model dense\\assets\n"
     ]
    },
    {
     "name": "stderr",
     "output_type": "stream",
     "text": [
      "INFO:tensorflow:Assets written to: model dense\\assets\n"
     ]
    }
   ],
   "source": [
    "model.save('model dense')"
   ]
  },
  {
   "cell_type": "code",
   "execution_count": null,
   "id": "8b75f81a",
   "metadata": {},
   "outputs": [],
   "source": [
    "model = tf.keras.models.load_model('model dense' ,compile= False)"
   ]
  },
  {
   "cell_type": "code",
   "execution_count": 24,
   "id": "1382f05c",
   "metadata": {},
   "outputs": [],
   "source": [
    "x = \"i don't like it here\""
   ]
  },
  {
   "cell_type": "code",
   "execution_count": 25,
   "id": "31fa5843",
   "metadata": {},
   "outputs": [],
   "source": [
    "def tag_finder(word,sentence):\n",
    "    idx = []\n",
    "    for i,j in enumerate(sentence.split(' ')):\n",
    "        if j == word:\n",
    "            idx.append(i)\n",
    "    return [model([sentence])[0][n].numpy().decode('utf-8') for n in idx]\n",
    "\n",
    "def accuracy(y_pred,y_true):\n",
    "    if not isinstance(y_true,tf.RaggedTensor):\n",
    "        y_true = tf.ragged.constant(y_true)\n",
    "\n",
    "    matches = tf.math.equal(y_true,y_pred)\n",
    "    matches = tf.cast(matches, tf.dtypes.int32)\n",
    "    total_matches = tf.reduce_sum(matches).numpy()\n",
    "    \n",
    "    total = tf.size(y_true)\n",
    "    return total_matches/total.numpy()"
   ]
  },
  {
   "cell_type": "code",
   "execution_count": 26,
   "id": "230a6e9d",
   "metadata": {},
   "outputs": [
    {
     "data": {
      "text/plain": [
       "['VBP']"
      ]
     },
     "execution_count": 26,
     "metadata": {},
     "output_type": "execute_result"
    }
   ],
   "source": [
    "tag_finder(\"don't\",x)"
   ]
  },
  {
   "cell_type": "code",
   "execution_count": null,
   "id": "c0d7501b",
   "metadata": {},
   "outputs": [],
   "source": [
    "accuracy(model.predict(X_test),y_test)"
   ]
  }
 ],
 "metadata": {
  "kernelspec": {
   "display_name": "Python 3 (ipykernel)",
   "language": "python",
   "name": "python3"
  },
  "language_info": {
   "codemirror_mode": {
    "name": "ipython",
    "version": 3
   },
   "file_extension": ".py",
   "mimetype": "text/x-python",
   "name": "python",
   "nbconvert_exporter": "python",
   "pygments_lexer": "ipython3",
   "version": "3.9.7"
  }
 },
 "nbformat": 4,
 "nbformat_minor": 5
}
